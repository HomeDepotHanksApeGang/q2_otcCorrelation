{
 "metadata": {
  "language_info": {
   "codemirror_mode": {
    "name": "ipython",
    "version": 3
   },
   "file_extension": ".py",
   "mimetype": "text/x-python",
   "name": "python",
   "nbconvert_exporter": "python",
   "pygments_lexer": "ipython3",
   "version": "3.9.4"
  },
  "orig_nbformat": 2,
  "kernelspec": {
   "name": "python394jvsc74a57bd0ac2eaa0ea0ebeafcc7822e65e46aa9d4f966f30b695406963e145ea4a91cd4fc",
   "display_name": "Python 3.9.4 64-bit ('python@3.9')"
  },
  "metadata": {
   "interpreter": {
    "hash": "ac2eaa0ea0ebeafcc7822e65e46aa9d4f966f30b695406963e145ea4a91cd4fc"
   }
  }
 },
 "nbformat": 4,
 "nbformat_minor": 2,
 "cells": [
  {
   "cell_type": "code",
   "execution_count": null,
   "metadata": {
    "tags": []
   },
   "outputs": [],
   "source": [
    "import calendar\n",
    "import json\n",
    "import requests\n",
    "import csv\n",
    "\n",
    "filename = \"output.csv\"\n",
    "symbols = [ \"GME\", \"AMC\", \"KOSS\", \"NAKD\", \"BBBY\", \"NOK\", \"GM\", \"AAPL\", \"TSLA\", \"MSFT\", \"SPY\", \"SPXS\" ]\n",
    "\n",
    "\n",
    "finraUrl = \"https://api.finra.org/data/group/OTCMarket/name/weeklySummary\"\n",
    "\n",
    "header = 'issueSymbolIdentifier,issueName,totalWeeklyShareQuantity,totalWeeklyTradeCount,marketParticipantName,tierIdentifier,weekStartDate\\n'\n",
    "\n",
    "with open(filename, \"w\") as f:\n",
    "    f.seek(0)\n",
    "    f.write(header)\n",
    "    f.truncate()\n",
    "\n",
    "for year in [2019,2020,2021]:\n",
    "    for month in range(1, 12):\n",
    "        startDate = str(year) + \"-\" + str(month).zfill(2) + \"-\" + \"01\"\n",
    "        endDate = str(year) + \"-\" + str(month).zfill(2) + \"-\" + str(calendar._monthlen(year, month))\n",
    "        print(startDate)\n",
    "        print(endDate)\n",
    "\n",
    "        tempQuery = {\n",
    "        \"fields\":[\"issueSymbolIdentifier\", \"issueName\", \"totalWeeklyShareQuantity\",\"totalWeeklyTradeCount\",\"marketParticipantName\",\"tierIdentifier\",\"weekStartDate\"],  \n",
    "        \"limit\" : 50000,\n",
    "        \"domainFilters\": [{\n",
    "        \"fieldName\" : \"issueSymbolIdentifier\",\n",
    "        \"values\" : symbols\n",
    "        }],\n",
    "        \"dateRangeFilters\": [ {\n",
    "\n",
    "            \"startDate\" : startDate,\n",
    "\n",
    "            \"endDate\" : endDate,\n",
    "\n",
    "            \"fieldName\" : \"weekStartDate\"\n",
    "\n",
    "        } ]\n",
    "        }\n",
    "\n",
    "        query = json.dumps(tempQuery)\n",
    "\n",
    "        r = requests.post(finraUrl, query)\n",
    "        with open(filename, 'a') as f:\n",
    "            reader = csv.DictReader(r.text.splitlines(), delimiter=',')\n",
    "            writer = csv.DictWriter(f, reader.fieldnames)\n",
    "            writer.writerows(reader)\n",
    "\n"
   ]
  },
  {
   "cell_type": "code",
   "execution_count": null,
   "metadata": {
    "tags": [
     "outputPrepend"
    ]
   },
   "outputs": [],
   "source": [
    "import yfinance as yf\n",
    "from pandas_datareader import data as pdr\n",
    "import pandas as pd\n",
    "import datetime\n",
    "\n",
    "yf.pdr_override()\n",
    "df = pd.read_csv (r'output.csv')\n",
    "\n",
    "df = df.drop(columns=['issueName', 'totalWeeklyShareQuantity','totalWeeklyTradeCount','marketParticipantName','tierIdentifier'])\n",
    "df = df.sort_values(by=['issueSymbolIdentifier','weekStartDate'])\n",
    "df = df.drop_duplicates()\n",
    "symbols = df[\"issueSymbolIdentifier\"].drop_duplicates()\n",
    "\n",
    "priceColumns = ['issueSymbolIdentifier','weekStartDate','High', 'Low', 'Open', 'Close', 'Volume']\n",
    "priceData = pd.DataFrame(columns = priceColumns)\n",
    "priceData.to_csv('price.csv',index=False)\n",
    "for symbol in symbols:\n",
    "        curr = df[df[\"issueSymbolIdentifier\"].isin([symbol])]\n",
    "        for x in curr['weekStartDate']:\n",
    "                startDate = datetime.date.fromisoformat(x)\n",
    "                endDate = startDate + datetime.timedelta( (5-startDate.weekday()) % 7 ) #yahoo finance ignores the endDate in the result set.\n",
    "                output = pdr.get_data_yahoo(symbol,startDate,endDate)\n",
    "                highPrice = output['High'].max()\n",
    "                lowPrice = output['Low'].min()\n",
    "                openPrice = output['Open'].mean()\n",
    "                closePrice = output['Close'].mean()\n",
    "                volume = output['Volume'].sum()\n",
    "\n",
    "                newRow = {\n",
    "                        'issueSymbolIdentifier':symbol,\n",
    "                        'weekStartDate': startDate.isoformat(),\n",
    "                        'High': highPrice,\n",
    "                        'Low': lowPrice,\n",
    "                        'Open': openPrice,\n",
    "                        'Close': closePrice,\n",
    "                        'Volume': volume\n",
    "                        }\n",
    "                priceData = pd.DataFrame(columns = priceColumns)\n",
    "                priceData = priceData.append(newRow, ignore_index=\"True\")\n",
    "\n",
    "                del startDate\n",
    "                del endDate\n",
    "                del output\n",
    "                del highPrice\n",
    "                del lowPrice\n",
    "                del openPrice\n",
    "                del closePrice\n",
    "                del volume\n",
    "                del newRow\n",
    "                priceData.to_csv('price.csv',index=False,header=False,mode='a')\n",
    "                del priceData\n",
    "        del curr"
   ]
  }
 ]
}